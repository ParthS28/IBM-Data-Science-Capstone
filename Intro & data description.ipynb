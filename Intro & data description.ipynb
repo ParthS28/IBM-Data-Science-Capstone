{
 "cells": [
  {
   "cell_type": "markdown",
   "metadata": {},
   "source": [
    "**Introduction**"
   ]
  },
  {
   "cell_type": "markdown",
   "metadata": {},
   "source": [
    "Mumbai, also called Bombay, is the capital city of the state of Maharashtra in India, and it's the most populous city in India. As the 4th most populous city in the world and one of the populous urban regions in the world.\n",
    "\n",
    "The migrating population is often oblivious of the rent and facilities across neighborhoods in Mumbai. We can use data to build a system to \n",
    "1. show the property prices in form of a Heatmap\n",
    "3. Build a Recommender system to recommend Neighbourhoods to a new-comer in the city based on his/her requirements such as type of house, budget, and life-style.\n",
    "4. Build a recommender system to recommend Neighborhoods where to open a business because there is a lack of that busness in the area and filter it based on it being a premium business or not.\n",
    "\n",
    "Our target audience is the general person looking to shit to the city that never sleeps as well as business owners looking to make it in Mumbai."
   ]
  },
  {
   "cell_type": "markdown",
   "metadata": {},
   "source": [
    "**Data Description**\n",
    "\n",
    "I am using the data available by 99acres.com, and I am referring to https://github.com/dibyendutapadar/mumbai_city_analysis who has done an excellent job of collecting and cleaning the data.\n",
    "\n",
    "    • Property rates are scrapped from 99acres.com. 99Acres is an Indian real estate database website founded in 2005.\n",
    "    • Nominatim API to get coordinates of neighbourhoods under analysis.\n",
    "    • Four Square API to get the details and types of venues in the vicinity of a neighbourhood."
   ]
  },
  {
   "cell_type": "code",
   "execution_count": null,
   "metadata": {},
   "outputs": [],
   "source": []
  }
 ],
 "metadata": {
  "kernelspec": {
   "display_name": "datasciencevenv",
   "language": "python",
   "name": "datasciencevenv"
  },
  "language_info": {
   "codemirror_mode": {
    "name": "ipython",
    "version": 3
   },
   "file_extension": ".py",
   "mimetype": "text/x-python",
   "name": "python",
   "nbconvert_exporter": "python",
   "pygments_lexer": "ipython3",
   "version": "3.6.9"
  }
 },
 "nbformat": 4,
 "nbformat_minor": 4
}
